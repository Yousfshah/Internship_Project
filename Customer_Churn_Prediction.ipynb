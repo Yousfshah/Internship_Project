{
 "cells": [
  {
   "cell_type": "markdown",
   "id": "c038d4c7",
   "metadata": {},
   "source": [
    "# Import Libraries"
   ]
  },
  {
   "cell_type": "code",
   "execution_count": 28,
   "id": "90e1b57d",
   "metadata": {},
   "outputs": [],
   "source": [
    "# basic imports\n",
    "import pandas as pd\n",
    "import numpy as np\n",
    "import seaborn as sns\n",
    "import matplotlib.pyplot as plt\n",
    "import os\n",
    "\n",
    "# ML libraries\n",
    "from sklearn.model_selection import train_test_split\n",
    "\n",
    "# remove warnings\n",
    "import warnings\n",
    "warnings.filterwarnings(\"ignore\")"
   ]
  },
  {
   "cell_type": "markdown",
   "id": "68857e83",
   "metadata": {},
   "source": [
    "# Sample Data"
   ]
  },
  {
   "cell_type": "code",
   "execution_count": 29,
   "id": "b06b3575",
   "metadata": {},
   "outputs": [
    {
     "name": "stdout",
     "output_type": "stream",
     "text": [
      "Mock telecom churn data generated: telecom_churn_mock_data.xlsx\n"
     ]
    }
   ],
   "source": [
    "# Generate mock customer data\n",
    "np.random.seed(42)\n",
    "num_customers = 2000\n",
    "\n",
    "data = {\n",
    "    'CustomerID': [f'CUST{1000+i}' for i in range(num_customers)],\n",
    "    'Gender': np.random.choice(['Male', 'Female'], num_customers, p=[0.5, 0.5]),\n",
    "    'SeniorCitizen': np.random.choice([0, 1], num_customers, p=[0.84, 0.16]),\n",
    "    'Partner': np.random.choice(['Yes', 'No'], num_customers, p=[0.48, 0.52]),\n",
    "    'Dependents': np.random.choice(['Yes', 'No'], num_customers, p=[0.3, 0.7]),\n",
    "    'Tenure': np.random.randint(1, 73, num_customers), # Months\n",
    "    'PhoneService': np.random.choice(['Yes', 'No'], num_customers, p=[0.9, 0.1]),\n",
    "    'MultipleLines': np.random.choice(['Yes', 'No', 'No phone service'], num_customers, p=[0.42, 0.48, 0.1]),\n",
    "    'InternetService': np.random.choice(['DSL', 'Fiber optic', 'No'], num_customers, p=[0.34, 0.44, 0.22]),\n",
    "    'OnlineSecurity': np.random.choice(['Yes', 'No', 'No internet service'], num_customers, p=[0.28, 0.50, 0.22]),\n",
    "    'OnlineBackup': np.random.choice(['Yes', 'No', 'No internet service'], num_customers, p=[0.34, 0.44, 0.22]),\n",
    "    'DeviceProtection': np.random.choice(['Yes', 'No', 'No internet service'], num_customers, p=[0.34, 0.44, 0.22]),\n",
    "    'TechSupport': np.random.choice(['Yes', 'No', 'No internet service'], num_customers, p=[0.29, 0.49, 0.22]),\n",
    "    'StreamingTV': np.random.choice(['Yes', 'No', 'No internet service'], num_customers, p=[0.38, 0.40, 0.22]),\n",
    "    'StreamingMovies': np.random.choice(['Yes', 'No', 'No internet service'], num_customers, p=[0.39, 0.39, 0.22]),\n",
    "    'Contract': np.random.choice(['Month-to-month', 'One year', 'Two year'], num_customers, p=[0.55, 0.24, 0.21]),\n",
    "    'PaperlessBilling': np.random.choice(['Yes', 'No'], num_customers, p=[0.59, 0.41]),\n",
    "    'PaymentMethod': np.random.choice(['Electronic check', 'Mailed check', 'Bank transfer (automatic)', 'Credit card (automatic)'], num_customers, p=[0.34, 0.23, 0.22, 0.21]),\n",
    "    'MonthlyCharges': np.random.normal(loc=65, scale=30, size=num_customers).clip(18, 120).round(2),\n",
    "}\n",
    "\n",
    "# create DataFrame\n",
    "df_customers = pd.DataFrame(data)\n",
    "\n",
    "# Generate TotalCharges based on Tenure and MonthlyCharges with some noise\n",
    "df_customers['TotalCharges'] = (df_customers['Tenure'] * df_customers['MonthlyCharges'] * np.random.uniform(0.95, 1.05, num_customers)).round(2)\n",
    "\n",
    "# Make some TotalCharges empty for realism (e.g., new customers with 0 tenure)\n",
    "df_customers.loc[df_customers['Tenure'] == 1, 'TotalCharges'] = df_customers['MonthlyCharges']\n",
    "\n",
    "# Get all customers with Tenure < 3\n",
    "low_tenure_mask = df_customers['Tenure'] < 3\n",
    "# Get random sample of 1% of those low-tenure customers\n",
    "random_indices = df_customers[low_tenure_mask].sample(frac=0.01, random_state=42).index\n",
    "# Set TotalCharges to NaN for these\n",
    "df_customers.loc[random_indices, 'TotalCharges'] = np.nan\n",
    "\n",
    "# Simulate Churn (more likely for month-to-month, higher charges, lower tenure)\n",
    "churn_probability = 0.1 \\\n",
    "+ 0.15 * (df_customers['Contract'] == 'Month-to-month') \\\n",
    "+ 0.1 * (df_customers['InternetService'] == 'Fiber optic') \\\n",
    "+ 0.001 * (df_customers['MonthlyCharges'] - 65) \\\n",
    "- 0.002 * (df_customers['Tenure'] - 36) \\\n",
    "+ 0.1 * (df_customers['OnlineSecurity'] == 'No') \\\n",
    "+ 0.1 * (df_customers['TechSupport'] == 'No')\n",
    "\n",
    "churn_probability = np.clip(churn_probability, 0.01, 0.99)\n",
    "df_customers['Churn'] = np.random.binomial(1, churn_probability, num_customers).astype(str)\n",
    "df_customers['Churn'] = df_customers['Churn'].replace({'1': 'Yes', '0': 'No'})\n",
    "\n",
    "# Replace 'No phone service' and 'No internet service' for consistency\n",
    "for col in ['MultipleLines']:\n",
    "    df_customers[col] = df_customers.apply(lambda row: 'No' if row['PhoneService'] == 'No' else row[col], axis=1)\n",
    "\n",
    "for col in ['OnlineSecurity', 'OnlineBackup', 'DeviceProtection', 'TechSupport', 'StreamingTV', 'StreamingMovies']:\n",
    "    df_customers[col] = df_customers.apply(lambda row: 'No' if row['InternetService'] == 'No' else row[col], axis=1)\n",
    "\n",
    "# make folder if it doesn't exist\n",
    "if not os.path.exists('Data'):\n",
    "    os.makedirs('Data')\n",
    "\n",
    "# Save the DataFrame to an Excel file\n",
    "df_customers.to_excel('./Data/telecom_churn_mock_data.xlsx', index=False)\n",
    "print(\"Mock telecom churn data generated: telecom_churn_mock_data.xlsx\")\n"
   ]
  },
  {
   "cell_type": "markdown",
   "id": "4afdcc1b",
   "metadata": {},
   "source": [
    "# Exploratory Data Analysis"
   ]
  },
  {
   "cell_type": "code",
   "execution_count": 30,
   "id": "b7c3a249",
   "metadata": {},
   "outputs": [
    {
     "name": "stdout",
     "output_type": "stream",
     "text": [
      "Data loaded successfully\n"
     ]
    }
   ],
   "source": [
    "# load the data\n",
    "df = pd.read_excel('./Data/telecom_churn_mock_data.xlsx')\n",
    "\n",
    "print(\"Data loaded successfully\")"
   ]
  },
  {
   "cell_type": "code",
   "execution_count": 31,
   "id": "cebfd7cf",
   "metadata": {},
   "outputs": [
    {
     "data": {
      "text/html": [
       "<div>\n",
       "<style scoped>\n",
       "    .dataframe tbody tr th:only-of-type {\n",
       "        vertical-align: middle;\n",
       "    }\n",
       "\n",
       "    .dataframe tbody tr th {\n",
       "        vertical-align: top;\n",
       "    }\n",
       "\n",
       "    .dataframe thead th {\n",
       "        text-align: right;\n",
       "    }\n",
       "</style>\n",
       "<table border=\"1\" class=\"dataframe\">\n",
       "  <thead>\n",
       "    <tr style=\"text-align: right;\">\n",
       "      <th></th>\n",
       "      <th>CustomerID</th>\n",
       "      <th>Gender</th>\n",
       "      <th>SeniorCitizen</th>\n",
       "      <th>Partner</th>\n",
       "      <th>Dependents</th>\n",
       "      <th>Tenure</th>\n",
       "      <th>PhoneService</th>\n",
       "      <th>MultipleLines</th>\n",
       "      <th>InternetService</th>\n",
       "      <th>OnlineSecurity</th>\n",
       "      <th>OnlineBackup</th>\n",
       "      <th>DeviceProtection</th>\n",
       "      <th>TechSupport</th>\n",
       "      <th>StreamingTV</th>\n",
       "      <th>StreamingMovies</th>\n",
       "      <th>Contract</th>\n",
       "      <th>PaperlessBilling</th>\n",
       "      <th>PaymentMethod</th>\n",
       "      <th>MonthlyCharges</th>\n",
       "      <th>TotalCharges</th>\n",
       "      <th>Churn</th>\n",
       "    </tr>\n",
       "  </thead>\n",
       "  <tbody>\n",
       "    <tr>\n",
       "      <th>0</th>\n",
       "      <td>CUST1000</td>\n",
       "      <td>Male</td>\n",
       "      <td>0</td>\n",
       "      <td>No</td>\n",
       "      <td>No</td>\n",
       "      <td>30</td>\n",
       "      <td>Yes</td>\n",
       "      <td>Yes</td>\n",
       "      <td>No</td>\n",
       "      <td>No</td>\n",
       "      <td>No</td>\n",
       "      <td>No</td>\n",
       "      <td>No</td>\n",
       "      <td>No</td>\n",
       "      <td>No</td>\n",
       "      <td>Month-to-month</td>\n",
       "      <td>No</td>\n",
       "      <td>Bank transfer (automatic)</td>\n",
       "      <td>69.55</td>\n",
       "      <td>2047.01</td>\n",
       "      <td>Yes</td>\n",
       "    </tr>\n",
       "    <tr>\n",
       "      <th>1</th>\n",
       "      <td>CUST1001</td>\n",
       "      <td>Female</td>\n",
       "      <td>0</td>\n",
       "      <td>No</td>\n",
       "      <td>Yes</td>\n",
       "      <td>11</td>\n",
       "      <td>Yes</td>\n",
       "      <td>Yes</td>\n",
       "      <td>Fiber optic</td>\n",
       "      <td>No internet service</td>\n",
       "      <td>No internet service</td>\n",
       "      <td>No</td>\n",
       "      <td>No internet service</td>\n",
       "      <td>No</td>\n",
       "      <td>No internet service</td>\n",
       "      <td>Month-to-month</td>\n",
       "      <td>Yes</td>\n",
       "      <td>Electronic check</td>\n",
       "      <td>48.08</td>\n",
       "      <td>522.42</td>\n",
       "      <td>Yes</td>\n",
       "    </tr>\n",
       "    <tr>\n",
       "      <th>2</th>\n",
       "      <td>CUST1002</td>\n",
       "      <td>Female</td>\n",
       "      <td>1</td>\n",
       "      <td>No</td>\n",
       "      <td>No</td>\n",
       "      <td>17</td>\n",
       "      <td>No</td>\n",
       "      <td>No</td>\n",
       "      <td>Fiber optic</td>\n",
       "      <td>No</td>\n",
       "      <td>Yes</td>\n",
       "      <td>No</td>\n",
       "      <td>No</td>\n",
       "      <td>Yes</td>\n",
       "      <td>No</td>\n",
       "      <td>Two year</td>\n",
       "      <td>No</td>\n",
       "      <td>Electronic check</td>\n",
       "      <td>36.56</td>\n",
       "      <td>610.07</td>\n",
       "      <td>No</td>\n",
       "    </tr>\n",
       "    <tr>\n",
       "      <th>3</th>\n",
       "      <td>CUST1003</td>\n",
       "      <td>Female</td>\n",
       "      <td>0</td>\n",
       "      <td>Yes</td>\n",
       "      <td>No</td>\n",
       "      <td>26</td>\n",
       "      <td>Yes</td>\n",
       "      <td>No</td>\n",
       "      <td>No</td>\n",
       "      <td>No</td>\n",
       "      <td>No</td>\n",
       "      <td>No</td>\n",
       "      <td>No</td>\n",
       "      <td>No</td>\n",
       "      <td>No</td>\n",
       "      <td>One year</td>\n",
       "      <td>Yes</td>\n",
       "      <td>Bank transfer (automatic)</td>\n",
       "      <td>79.72</td>\n",
       "      <td>2159.26</td>\n",
       "      <td>No</td>\n",
       "    </tr>\n",
       "    <tr>\n",
       "      <th>4</th>\n",
       "      <td>CUST1004</td>\n",
       "      <td>Male</td>\n",
       "      <td>0</td>\n",
       "      <td>Yes</td>\n",
       "      <td>Yes</td>\n",
       "      <td>23</td>\n",
       "      <td>Yes</td>\n",
       "      <td>No</td>\n",
       "      <td>Fiber optic</td>\n",
       "      <td>No internet service</td>\n",
       "      <td>No</td>\n",
       "      <td>No</td>\n",
       "      <td>Yes</td>\n",
       "      <td>No</td>\n",
       "      <td>Yes</td>\n",
       "      <td>Month-to-month</td>\n",
       "      <td>Yes</td>\n",
       "      <td>Mailed check</td>\n",
       "      <td>70.42</td>\n",
       "      <td>1672.56</td>\n",
       "      <td>Yes</td>\n",
       "    </tr>\n",
       "  </tbody>\n",
       "</table>\n",
       "</div>"
      ],
      "text/plain": [
       "  CustomerID  Gender  SeniorCitizen Partner Dependents  Tenure PhoneService  \\\n",
       "0   CUST1000    Male              0      No         No      30          Yes   \n",
       "1   CUST1001  Female              0      No        Yes      11          Yes   \n",
       "2   CUST1002  Female              1      No         No      17           No   \n",
       "3   CUST1003  Female              0     Yes         No      26          Yes   \n",
       "4   CUST1004    Male              0     Yes        Yes      23          Yes   \n",
       "\n",
       "  MultipleLines InternetService       OnlineSecurity         OnlineBackup  \\\n",
       "0           Yes              No                   No                   No   \n",
       "1           Yes     Fiber optic  No internet service  No internet service   \n",
       "2            No     Fiber optic                   No                  Yes   \n",
       "3            No              No                   No                   No   \n",
       "4            No     Fiber optic  No internet service                   No   \n",
       "\n",
       "  DeviceProtection          TechSupport StreamingTV      StreamingMovies  \\\n",
       "0               No                   No          No                   No   \n",
       "1               No  No internet service          No  No internet service   \n",
       "2               No                   No         Yes                   No   \n",
       "3               No                   No          No                   No   \n",
       "4               No                  Yes          No                  Yes   \n",
       "\n",
       "         Contract PaperlessBilling              PaymentMethod  MonthlyCharges  \\\n",
       "0  Month-to-month               No  Bank transfer (automatic)           69.55   \n",
       "1  Month-to-month              Yes           Electronic check           48.08   \n",
       "2        Two year               No           Electronic check           36.56   \n",
       "3        One year              Yes  Bank transfer (automatic)           79.72   \n",
       "4  Month-to-month              Yes               Mailed check           70.42   \n",
       "\n",
       "   TotalCharges Churn  \n",
       "0       2047.01   Yes  \n",
       "1        522.42   Yes  \n",
       "2        610.07    No  \n",
       "3       2159.26    No  \n",
       "4       1672.56   Yes  "
      ]
     },
     "execution_count": 31,
     "metadata": {},
     "output_type": "execute_result"
    }
   ],
   "source": [
    "# show all columns\n",
    "pd.set_option('display.max_columns', None)\n",
    "\n",
    "# data preview\n",
    "df.head()"
   ]
  },
  {
   "cell_type": "code",
   "execution_count": 32,
   "id": "1b36214a",
   "metadata": {},
   "outputs": [
    {
     "name": "stdout",
     "output_type": "stream",
     "text": [
      "Rows = 2000\n",
      "Columns = 21\n"
     ]
    }
   ],
   "source": [
    "# shape of data\n",
    "print(f'Rows = {df.shape[0]}')\n",
    "print(f'Columns = {df.shape[1]}')"
   ]
  },
  {
   "cell_type": "code",
   "execution_count": 33,
   "id": "0169bdf6",
   "metadata": {},
   "outputs": [
    {
     "name": "stdout",
     "output_type": "stream",
     "text": [
      "<class 'pandas.core.frame.DataFrame'>\n",
      "RangeIndex: 2000 entries, 0 to 1999\n",
      "Data columns (total 21 columns):\n",
      " #   Column            Non-Null Count  Dtype  \n",
      "---  ------            --------------  -----  \n",
      " 0   CustomerID        2000 non-null   object \n",
      " 1   Gender            2000 non-null   object \n",
      " 2   SeniorCitizen     2000 non-null   int64  \n",
      " 3   Partner           2000 non-null   object \n",
      " 4   Dependents        2000 non-null   object \n",
      " 5   Tenure            2000 non-null   int64  \n",
      " 6   PhoneService      2000 non-null   object \n",
      " 7   MultipleLines     2000 non-null   object \n",
      " 8   InternetService   2000 non-null   object \n",
      " 9   OnlineSecurity    2000 non-null   object \n",
      " 10  OnlineBackup      2000 non-null   object \n",
      " 11  DeviceProtection  2000 non-null   object \n",
      " 12  TechSupport       2000 non-null   object \n",
      " 13  StreamingTV       2000 non-null   object \n",
      " 14  StreamingMovies   2000 non-null   object \n",
      " 15  Contract          2000 non-null   object \n",
      " 16  PaperlessBilling  2000 non-null   object \n",
      " 17  PaymentMethod     2000 non-null   object \n",
      " 18  MonthlyCharges    2000 non-null   float64\n",
      " 19  TotalCharges      2000 non-null   float64\n",
      " 20  Churn             2000 non-null   object \n",
      "dtypes: float64(2), int64(2), object(17)\n",
      "memory usage: 328.2+ KB\n"
     ]
    }
   ],
   "source": [
    "# data info\n",
    "df.info(show_counts=True)"
   ]
  },
  {
   "cell_type": "markdown",
   "id": "f8bf67e6",
   "metadata": {},
   "source": [
    "### Observation\n",
    "- Data needs some type conversion like object to category for memory effecient"
   ]
  },
  {
   "cell_type": "code",
   "execution_count": 34,
   "id": "ed00be12",
   "metadata": {},
   "outputs": [
    {
     "data": {
      "text/html": [
       "<div>\n",
       "<style scoped>\n",
       "    .dataframe tbody tr th:only-of-type {\n",
       "        vertical-align: middle;\n",
       "    }\n",
       "\n",
       "    .dataframe tbody tr th {\n",
       "        vertical-align: top;\n",
       "    }\n",
       "\n",
       "    .dataframe thead th {\n",
       "        text-align: right;\n",
       "    }\n",
       "</style>\n",
       "<table border=\"1\" class=\"dataframe\">\n",
       "  <thead>\n",
       "    <tr style=\"text-align: right;\">\n",
       "      <th></th>\n",
       "      <th>SeniorCitizen</th>\n",
       "      <th>Tenure</th>\n",
       "      <th>MonthlyCharges</th>\n",
       "      <th>TotalCharges</th>\n",
       "    </tr>\n",
       "  </thead>\n",
       "  <tbody>\n",
       "    <tr>\n",
       "      <th>count</th>\n",
       "      <td>2000.000000</td>\n",
       "      <td>2000.000000</td>\n",
       "      <td>2000.000000</td>\n",
       "      <td>2000.000000</td>\n",
       "    </tr>\n",
       "    <tr>\n",
       "      <th>mean</th>\n",
       "      <td>0.151500</td>\n",
       "      <td>36.342500</td>\n",
       "      <td>65.880710</td>\n",
       "      <td>2394.132725</td>\n",
       "    </tr>\n",
       "    <tr>\n",
       "      <th>std</th>\n",
       "      <td>0.358625</td>\n",
       "      <td>21.029392</td>\n",
       "      <td>27.154716</td>\n",
       "      <td>1807.861046</td>\n",
       "    </tr>\n",
       "    <tr>\n",
       "      <th>min</th>\n",
       "      <td>0.000000</td>\n",
       "      <td>1.000000</td>\n",
       "      <td>18.000000</td>\n",
       "      <td>18.000000</td>\n",
       "    </tr>\n",
       "    <tr>\n",
       "      <th>25%</th>\n",
       "      <td>0.000000</td>\n",
       "      <td>18.000000</td>\n",
       "      <td>45.342500</td>\n",
       "      <td>934.712500</td>\n",
       "    </tr>\n",
       "    <tr>\n",
       "      <th>50%</th>\n",
       "      <td>0.000000</td>\n",
       "      <td>37.000000</td>\n",
       "      <td>65.460000</td>\n",
       "      <td>1972.770000</td>\n",
       "    </tr>\n",
       "    <tr>\n",
       "      <th>75%</th>\n",
       "      <td>0.000000</td>\n",
       "      <td>54.000000</td>\n",
       "      <td>84.992500</td>\n",
       "      <td>3532.675000</td>\n",
       "    </tr>\n",
       "    <tr>\n",
       "      <th>max</th>\n",
       "      <td>1.000000</td>\n",
       "      <td>72.000000</td>\n",
       "      <td>120.000000</td>\n",
       "      <td>8756.020000</td>\n",
       "    </tr>\n",
       "  </tbody>\n",
       "</table>\n",
       "</div>"
      ],
      "text/plain": [
       "       SeniorCitizen       Tenure  MonthlyCharges  TotalCharges\n",
       "count    2000.000000  2000.000000     2000.000000   2000.000000\n",
       "mean        0.151500    36.342500       65.880710   2394.132725\n",
       "std         0.358625    21.029392       27.154716   1807.861046\n",
       "min         0.000000     1.000000       18.000000     18.000000\n",
       "25%         0.000000    18.000000       45.342500    934.712500\n",
       "50%         0.000000    37.000000       65.460000   1972.770000\n",
       "75%         0.000000    54.000000       84.992500   3532.675000\n",
       "max         1.000000    72.000000      120.000000   8756.020000"
      ]
     },
     "execution_count": 34,
     "metadata": {},
     "output_type": "execute_result"
    }
   ],
   "source": [
    "# summary statistics\n",
    "df.describe()"
   ]
  },
  {
   "cell_type": "code",
   "execution_count": 35,
   "id": "55f7b3c9",
   "metadata": {},
   "outputs": [
    {
     "data": {
      "text/plain": [
       "Index(['CustomerID', 'Gender', 'SeniorCitizen', 'Partner', 'Dependents',\n",
       "       'Tenure', 'PhoneService', 'MultipleLines', 'InternetService',\n",
       "       'OnlineSecurity', 'OnlineBackup', 'DeviceProtection', 'TechSupport',\n",
       "       'StreamingTV', 'StreamingMovies', 'Contract', 'PaperlessBilling',\n",
       "       'PaymentMethod', 'MonthlyCharges', 'TotalCharges', 'Churn'],\n",
       "      dtype='object')"
      ]
     },
     "execution_count": 35,
     "metadata": {},
     "output_type": "execute_result"
    }
   ],
   "source": [
    "# column names\n",
    "df.columns"
   ]
  },
  {
   "cell_type": "markdown",
   "id": "4ca77a9f",
   "metadata": {},
   "source": [
    "## Duplicate Rows"
   ]
  },
  {
   "cell_type": "code",
   "execution_count": 36,
   "id": "e4f918d8",
   "metadata": {},
   "outputs": [
    {
     "name": "stdout",
     "output_type": "stream",
     "text": [
      "Number of duplicate rows: 0\n"
     ]
    }
   ],
   "source": [
    "# get count of duplicate rows\n",
    "print(f'Number of duplicate rows: {df.duplicated().sum()}')\n",
    "\n",
    "# display duplicate rows if any exist\n",
    "if df.duplicated().sum() > 0:\n",
    "    print(\"\\nDuplicate rows:\")\n",
    "    print(df[df.duplicated()])\n"
   ]
  },
  {
   "cell_type": "markdown",
   "id": "095e3634",
   "metadata": {},
   "source": [
    "## Missing Values"
   ]
  },
  {
   "cell_type": "code",
   "execution_count": 37,
   "id": "e150176e",
   "metadata": {},
   "outputs": [
    {
     "name": "stdout",
     "output_type": "stream",
     "text": [
      "Columns with missing values:\n",
      "Empty DataFrame\n",
      "Columns: [Missing Values, Missing Percentage]\n",
      "Index: []\n",
      "\n",
      "No missing values found in the dataset.\n"
     ]
    }
   ],
   "source": [
    "# check missing values\n",
    "missing_values = df.isnull().sum()\n",
    "missing_percentages = (missing_values / len(df)) * 100\n",
    "\n",
    "# create a summary DataFrame\n",
    "missing_data = pd.DataFrame({\n",
    "    'Missing Values': missing_values,\n",
    "    'Missing Percentage': missing_percentages.round(2)\n",
    "})\n",
    "\n",
    "# display only columns with missing values\n",
    "print(\"Columns with missing values:\")\n",
    "print(missing_data[missing_data['Missing Values'] > 0])\n",
    "\n",
    "# if no missing values, print a message\n",
    "if missing_data['Missing Values'].sum() == 0:\n",
    "    print(\"\\nNo missing values found in the dataset.\")"
   ]
  },
  {
   "cell_type": "markdown",
   "id": "7d89069f",
   "metadata": {},
   "source": [
    "## Type Casting"
   ]
  },
  {
   "cell_type": "code",
   "execution_count": 38,
   "id": "07a7b18a",
   "metadata": {},
   "outputs": [
    {
     "name": "stdout",
     "output_type": "stream",
     "text": [
      "Total memory usage before type conversion: '2144.06' KB\n"
     ]
    }
   ],
   "source": [
    "# Get memory usage for each column\n",
    "memory_usage = df.memory_usage(deep=True).sum() / 1024  # Convert bytes to KB\n",
    "\n",
    "print(f\"Total memory usage before type conversion: '{memory_usage:.2f}' KB\")"
   ]
  },
  {
   "cell_type": "code",
   "execution_count": 42,
   "id": "98ab6415",
   "metadata": {},
   "outputs": [
    {
     "data": {
      "text/plain": [
       "CustomerID          category\n",
       "Gender              category\n",
       "SeniorCitizen          int64\n",
       "Partner             category\n",
       "Dependents          category\n",
       "Tenure                 int64\n",
       "PhoneService        category\n",
       "MultipleLines       category\n",
       "InternetService     category\n",
       "OnlineSecurity      category\n",
       "OnlineBackup        category\n",
       "DeviceProtection    category\n",
       "TechSupport         category\n",
       "StreamingTV         category\n",
       "StreamingMovies     category\n",
       "Contract            category\n",
       "PaperlessBilling    category\n",
       "PaymentMethod       category\n",
       "MonthlyCharges         int64\n",
       "TotalCharges           int64\n",
       "Churn               category\n",
       "dtype: object"
      ]
     },
     "execution_count": 42,
     "metadata": {},
     "output_type": "execute_result"
    }
   ],
   "source": [
    "# datatype before type casting\n",
    "df.dtypes"
   ]
  },
  {
   "cell_type": "code",
   "execution_count": 41,
   "id": "032ca5d2",
   "metadata": {},
   "outputs": [
    {
     "data": {
      "text/plain": [
       "CustomerID          category\n",
       "Gender              category\n",
       "SeniorCitizen          int64\n",
       "Partner             category\n",
       "Dependents          category\n",
       "Tenure                 int64\n",
       "PhoneService        category\n",
       "MultipleLines       category\n",
       "InternetService     category\n",
       "OnlineSecurity      category\n",
       "OnlineBackup        category\n",
       "DeviceProtection    category\n",
       "TechSupport         category\n",
       "StreamingTV         category\n",
       "StreamingMovies     category\n",
       "Contract            category\n",
       "PaperlessBilling    category\n",
       "PaymentMethod       category\n",
       "MonthlyCharges         int64\n",
       "TotalCharges           int64\n",
       "Churn               category\n",
       "dtype: object"
      ]
     },
     "execution_count": 41,
     "metadata": {},
     "output_type": "execute_result"
    }
   ],
   "source": [
    "# Convert object columns to category\n",
    "object_columns = df.select_dtypes(include=['object']).columns\n",
    "for col in object_columns:\n",
    "    df[col] = df[col].astype('category')\n",
    "\n",
    "# Convert float columns to int where appropriate    \n",
    "df['MonthlyCharges'] = df['MonthlyCharges'].astype('int64')\n",
    "df['TotalCharges'] = df['TotalCharges'].astype('int64')\n",
    "\n",
    "# check datatype\n",
    "df.dtypes"
   ]
  },
  {
   "cell_type": "code",
   "execution_count": 40,
   "id": "39646c0d",
   "metadata": {},
   "outputs": [
    {
     "name": "stdout",
     "output_type": "stream",
     "text": [
      "Total memory usage after type conversion: '293.73' KB\n"
     ]
    }
   ],
   "source": [
    "# Get memory usage for each column\n",
    "memory_usage = df.memory_usage(deep=True).sum() / 1024  # Convert bytes to KB\n",
    "\n",
    "print(f\"Total memory usage after type conversion: '{memory_usage:.2f}' KB\")\n"
   ]
  },
  {
   "cell_type": "markdown",
   "id": "a32bccd1",
   "metadata": {},
   "source": [
    "### **When to use Category**\n",
    "Use the category dtype in pandas when a column contains repeated string values with a limited number of unique entries (i.e., low cardinality), such as Gender, PhoneService, MultipleLines, or InternetService. This is because category stores the data more efficiently by assigning integer codes to each unique value and referencing them via a lookup table, which significantly reduces memory usage and can speed up operations like filtering, grouping, and sorting. However, avoid using category for columns with mostly unique values—such as names, emails, or user IDs—because the categorical structure adds overhead without providing memory savings or performance improvements. In such cases, keeping the column as object is more practical and flexible"
   ]
  }
 ],
 "metadata": {
  "kernelspec": {
   "display_name": "Telecom_CC",
   "language": "python",
   "name": "python3"
  },
  "language_info": {
   "codemirror_mode": {
    "name": "ipython",
    "version": 3
   },
   "file_extension": ".py",
   "mimetype": "text/x-python",
   "name": "python",
   "nbconvert_exporter": "python",
   "pygments_lexer": "ipython3",
   "version": "3.10.18"
  }
 },
 "nbformat": 4,
 "nbformat_minor": 5
}
